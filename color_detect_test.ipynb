{
 "cells": [
  {
   "cell_type": "markdown",
   "metadata": {},
   "source": [
    "### Testing code written by Landon Moceri\n",
    "### With the help of Github Copilot"
   ]
  },
  {
   "cell_type": "markdown",
   "metadata": {},
   "source": [
    "# Imports"
   ]
  },
  {
   "cell_type": "code",
   "execution_count": 15,
   "metadata": {},
   "outputs": [],
   "source": [
    "# Imports\n",
    "import cv2\n",
    "import numpy as np\n",
    "from skimage import color as skcolor\n",
    "from webcolors import hex_to_rgb\n",
    "import matplotlib.pyplot as plt"
   ]
  },
  {
   "cell_type": "markdown",
   "metadata": {},
   "source": [
    "# Capture Brick"
   ]
  },
  {
   "cell_type": "code",
   "execution_count": 52,
   "metadata": {},
   "outputs": [],
   "source": [
    "# Get the frame from the camera\n",
    "cap = cv2.VideoCapture(0, cv2.CAP_DSHOW)\n",
    "\n",
    "ret, frame = cap.read()\n",
    "\n",
    "cap.release()\n",
    "\n",
    "# Preview the frame\n",
    "cv2.imshow('frame', frame)\n",
    "cv2.waitKey(0)\n",
    "cv2.destroyAllWindows()"
   ]
  },
  {
   "cell_type": "markdown",
   "metadata": {},
   "source": [
    "# Find Color Of Brick"
   ]
  },
  {
   "cell_type": "code",
   "execution_count": 53,
   "metadata": {},
   "outputs": [
    {
     "name": "stdout",
     "output_type": "stream",
     "text": [
      "#051750\n"
     ]
    },
    {
     "data": {
      "image/png": "[encoded data removed]",
      "text/plain": [
       "<Figure size 200x200 with 1 Axes>"
      ]
     },
     "metadata": {},
     "output_type": "display_data"
    }
   ],
   "source": [
    "# Get the middle pixel \n",
    "middle_pixel = frame[int(frame.shape[0]/2), int(frame.shape[1]/2)]\n",
    "\n",
    "# Convert from BGR to RGB\n",
    "middle_pixel_rgb = middle_pixel[::-1]\n",
    "\n",
    "# Convert to hex\n",
    "middle_pixel_hex = '#{:02x}{:02x}{:02x}'.format(middle_pixel_rgb[0], middle_pixel_rgb[1], middle_pixel_rgb[2])\n",
    "\n",
    "# Print the middle pixel color in hex\n",
    "print(middle_pixel_hex)\n",
    "\n",
    "# Plot the color\n",
    "plt.figure(figsize=(2,2))\n",
    "plt.imshow([[middle_pixel_rgb]])\n",
    "plt.axis('off')\n",
    "plt.show()"
   ]
  },
  {
   "cell_type": "markdown",
   "metadata": {},
   "source": [
    "## Preview Color Dictionary"
   ]
  },
  {
   "cell_type": "code",
   "execution_count": 8,
   "metadata": {},
   "outputs": [
    {
     "data": {
      "image/png": "[encoded data removed]",
      "text/plain": [
       "<Figure size 1000x1000 with 12 Axes>"
      ]
     },
     "metadata": {},
     "output_type": "display_data"
    }
   ],
   "source": [
    "# Initialize the color dictionary\n",
    "color_dict = {\n",
    "\"#770A00\": \"red\",  \n",
    "\"#9D3500\": \"orange\", \n",
    "\"#9F7204\": \"yellow\",  \n",
    "\"#123029\": \"green\", \n",
    "\"#051E60\": \"blue\",  \n",
    "\"#16133B\": \"purple\",  \n",
    "\"#915B6C\": \"pink\",  \n",
    "\"#61595C\": \"light_bluish_gray\",  \n",
    "\"#2A272A\": \"dark_bluish_gray\",  \n",
    "\"#050608\": \"black\",  \n",
    "\"#9D908A\": \"white\",  \n",
    "\"#29120D\": \"brown\"  \n",
    "}\n",
    "\n",
    "# Plot all the colors on a grid\n",
    "colors = list(color_dict.keys())\n",
    "color_names = list(color_dict.values())\n",
    "\n",
    "plt.figure(figsize=(10,10))\n",
    "for i in range(len(colors)):\n",
    "    plt.subplot(4,3,i+1)\n",
    "    plt.imshow([[np.array([int(colors[i][j:j+2], 16) for j in (1, 3, 5)])]])\n",
    "    plt.axis('off')\n",
    "    plt.title(color_names[i])\n",
    "    \n",
    "plt.show()\n"
   ]
  },
  {
   "cell_type": "markdown",
   "metadata": {},
   "source": [
    "## Get Closest Color"
   ]
  },
  {
   "cell_type": "code",
   "execution_count": 54,
   "metadata": {},
   "outputs": [
    {
     "name": "stdout",
     "output_type": "stream",
     "text": [
      "Pixel color: [ 5 23 80]\n",
      "Closest match in the dictionary: blue\n"
     ]
    },
    {
     "data": {
      "text/plain": [
       "'blue'"
      ]
     },
     "execution_count": 54,
     "metadata": {},
     "output_type": "execute_result"
    }
   ],
   "source": [
    "# Find the closest color\n",
    "def closest_color(color_dict, pixel):\n",
    "    # Convert the pixel to 8-bit unsigned integer format\n",
    "    pixel = np.uint8(pixel)\n",
    "\n",
    "    # Convert the pixel to Lab color space\n",
    "    pixel_lab = skcolor.rgb2lab([[[pixel / 255]]]).flatten()\n",
    "    color_dict_lab = {col: skcolor.rgb2lab([[[np.array(hex_to_rgb(col)) / 255]]]).flatten() for col in color_dict.keys()}\n",
    "\n",
    "    # Find the closest match in the dictionary\n",
    "    closest_color = min(color_dict_lab.keys(), \n",
    "                        key=lambda color: np.linalg.norm(color_dict_lab[color] - pixel_lab))\n",
    "\n",
    "    print(\"Pixel color:\", pixel)\n",
    "    print(\"Closest match in the dictionary:\", color_dict[closest_color])\n",
    "    return color_dict[closest_color]\n",
    "\n",
    "# Test the function\n",
    "closest_color(color_dict, middle_pixel_rgb)"
   ]
  }
 ],
 "metadata": {
  "kernelspec": {
   "display_name": ".venv",
   "language": "python",
   "name": "python3"
  },
  "language_info": {
   "codemirror_mode": {
    "name": "ipython",
    "version": 3
   },
   "file_extension": ".py",
   "mimetype": "text/x-python",
   "name": "python",
   "nbconvert_exporter": "python",
   "pygments_lexer": "ipython3",
   "version": "3.11.5"
  }
 },
 "nbformat": 4,
 "nbformat_minor": 2
}
